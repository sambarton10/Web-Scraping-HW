{
 "cells": [
  {
   "cell_type": "code",
   "execution_count": 3,
   "metadata": {},
   "outputs": [],
   "source": [
    "from bs4 import BeautifulSoup\n",
    "import requests\n",
    "from splinter import Browser"
   ]
  },
  {
   "cell_type": "code",
   "execution_count": 22,
   "metadata": {},
   "outputs": [],
   "source": [
    "# Setup splinter\n",
    "executable_path = {'executable_path' : './/chromedriver'}\n",
    "browser = Browser('chrome', **executable_path, headless = False)\n",
    "newsURL = 'https://mars.nasa.gov/news/?page=0&per_page=40&order=publish_date+desc%2Ccreated_at+desc&search=&category=19%2C165%2C184%2C204&blank_scope=Latest'\n",
    "featuredimageURL = 'https://www.jpl.nasa.gov/spaceimages/?search=&category=Mars'"
   ]
  },
  {
   "cell_type": "code",
   "execution_count": 24,
   "metadata": {},
   "outputs": [
    {
     "name": "stdout",
     "output_type": "stream",
     "text": [
      "5 Hidden Gems Are Riding Aboard NASA's Perseverance Rover\n",
      "------------------------\n",
      "The symbols, mottos, and small objects added to the agency's newest Mars rover serve a variety of purposes, from functional to decorative.\n"
     ]
    }
   ],
   "source": [
    "# Scrape the NASA Mars News Site and collect the latest News Title and Paragraph Text. Assign the text to variables that you can reference later.\n",
    "\n",
    "# Load page into browser\n",
    "browser.visit(newsURL)\n",
    "# Get Html code as BS object from browser\n",
    "newsObj = BeautifulSoup(browser.html, 'html.parser')\n",
    "# Find tag for first news headline\n",
    "if browser.is_element_present_by_tag('html', wait_time=5):\n",
    "    firstSlide = newsObj.find('li', class_='slide')\n",
    "    # Find Title and paragraph of headline\n",
    "    news_title = firstSlide.find('h3').text\n",
    "    news_p = firstSlide.find(class_='rollover_description_inner').text\n",
    "else:\n",
    "    print('Page timed out:' + newsURL)\n",
    "print(news_title)\n",
    "print(\"------------------------\")\n",
    "print(news_p)"
   ]
  },
  {
   "cell_type": "code",
   "execution_count": null,
   "metadata": {},
   "outputs": [],
   "source": [
    "# Scrape the NASA Featured Image \n",
    "\n",
    "# Load page into browser\n",
    "browser.visit(featuredimageURL)\n",
    "# Get Html code as BS object from browser\n",
    "fiObj = BeautifulSoup(browser.html, 'html.parser')\n",
    "#Retrieve all elements that contain book information\n",
    "featuredImages = soup.find_all('carousel_items')\n",
    "\n"
   ]
  }
 ],
 "metadata": {
  "kernelspec": {
   "display_name": "Python 3",
   "language": "python",
   "name": "python3"
  },
  "language_info": {
   "codemirror_mode": {
    "name": "ipython",
    "version": 3
   },
   "file_extension": ".py",
   "mimetype": "text/x-python",
   "name": "python",
   "nbconvert_exporter": "python",
   "pygments_lexer": "ipython3",
   "version": "3.8.3"
  }
 },
 "nbformat": 4,
 "nbformat_minor": 4
}
