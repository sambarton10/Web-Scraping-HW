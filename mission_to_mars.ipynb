{
 "cells": [
  {
   "cell_type": "code",
   "execution_count": 3,
   "metadata": {},
   "outputs": [],
   "source": [
    "from bs4 import BeautifulSoup\n",
    "import requests\n",
    "from splinter import Browser"
   ]
  },
  {
   "cell_type": "code",
   "execution_count": 26,
   "metadata": {},
   "outputs": [],
   "source": [
    "# Setup splinter\n",
    "executable_path = {'executable_path' : './/chromedriver'}\n",
    "browser = Browser('chrome', **executable_path, headless = False)\n",
    "newsURL = 'https://mars.nasa.gov/news/?page=0&per_page=40&order=publish_date+desc%2Ccreated_at+desc&search=&category=19%2C165%2C184%2C204&blank_scope=Latest'\n",
    "featuredimageURL = 'https://www.jpl.nasa.gov/spaceimages/?search=&category=Mars'"
   ]
  },
  {
   "cell_type": "code",
   "execution_count": 24,
   "metadata": {},
   "outputs": [
    {
     "name": "stdout",
     "output_type": "stream",
     "text": [
      "5 Hidden Gems Are Riding Aboard NASA's Perseverance Rover\n",
      "------------------------\n",
      "The symbols, mottos, and small objects added to the agency's newest Mars rover serve a variety of purposes, from functional to decorative.\n"
     ]
    }
   ],
   "source": [
    "# Scrape the NASA Mars News Site and collect the latest News Title and Paragraph Text. Assign the text to variables that you can reference later.\n",
    "\n",
    "# Load page into browser\n",
    "browser.visit(newsURL)\n",
    "# Get Html code as BS object from browser\n",
    "newsObj = BeautifulSoup(browser.html, 'html.parser')\n",
    "# Find tag for first news headline\n",
    "if browser.is_element_present_by_tag('html', wait_time=5):\n",
    "    firstSlide = newsObj.find('li', class_='slide')\n",
    "    # Find Title and paragraph of headline\n",
    "    news_title = firstSlide.find('h3').text\n",
    "    news_p = firstSlide.find(class_='rollover_description_inner').text\n",
    "else:\n",
    "    print('Page timed out:' + newsURL)\n",
    "print(news_title)\n",
    "print(\"------------------------\")\n",
    "print(news_p)"
   ]
  },
  {
   "cell_type": "code",
   "execution_count": 29,
   "metadata": {},
   "outputs": [
    {
     "name": "stdout",
     "output_type": "stream",
     "text": [
      "<article alt=\"The Rich Color Variations of Pluto\" class=\"carousel_item\" style=\"background-image: url('/spaceimages/images/wallpaper/PIA19952-1920x1200.jpg');\">\n",
      " <div class=\"default floating_text_area ms-layer\">\n",
      "  <h2 class=\"category_title\">\n",
      "  </h2>\n",
      "  <h2 class=\"brand_title\">\n",
      "   FEATURED IMAGE\n",
      "  </h2>\n",
      "  <h1 class=\"media_feature_title\">\n",
      "   The Rich Color Variations of Pluto\n",
      "  </h1>\n",
      "  <div class=\"description\">\n",
      "  </div>\n",
      "  <footer>\n",
      "   <a class=\"button fancybox\" data-description=\"NASA's New Horizons spacecraft captured this high-resolution enhanced color view of Pluto on July 14, 2015. Pluto's surface sports a remarkable range of subtle colors, enhanced in this view to a rainbow of pale blues, yellows, oranges, and deep reds.\" data-fancybox-group=\"images\" data-fancybox-href=\"/spaceimages/images/mediumsize/PIA19952_ip.jpg\" data-link=\"/spaceimages/details.php?id=PIA19952\" data-title=\"The Rich Color Variations of Pluto\" id=\"full_image\">\n",
      "    FULL IMAGE\n",
      "   </a>\n",
      "  </footer>\n",
      " </div>\n",
      " <div class=\"gradient_container_top\">\n",
      " </div>\n",
      " <div class=\"gradient_container_bottom\">\n",
      " </div>\n",
      "</article>\n",
      "\n"
     ]
    }
   ],
   "source": [
    "# Scrape the NASA Featured Image \n",
    "\n",
    "# Load page into browser\n",
    "browser.visit(featuredimageURL)\n",
    "\n",
    "html = browser.html\n",
    "soup = BeautifulSoup(html, 'html.parser')\n",
    "\n",
    "carousel_item = soup.find('article', class_='carousel_item')\n",
    "\n",
    "print(carousel_item.prettify())"
   ]
  },
  {
   "cell_type": "code",
   "execution_count": 31,
   "metadata": {},
   "outputs": [
    {
     "data": {
      "text/plain": [
       "\"background-image: url('/spaceimages/images/wallpaper/PIA19952-1920x1200.jpg');\""
      ]
     },
     "execution_count": 31,
     "metadata": {},
     "output_type": "execute_result"
    }
   ],
   "source": [
    "style = carousel_item['style']\n",
    "style"
   ]
  },
  {
   "cell_type": "code",
   "execution_count": 40,
   "metadata": {},
   "outputs": [
    {
     "name": "stdout",
     "output_type": "stream",
     "text": [
      "/spaceimages/images/wallpaper/PIA19952-1920x1200.jpg\n"
     ]
    }
   ],
   "source": [
    "tempURL = (style.split(\"'\"))\n",
    "print(tempURL[1])"
   ]
  },
  {
   "cell_type": "code",
   "execution_count": 41,
   "metadata": {},
   "outputs": [
    {
     "name": "stdout",
     "output_type": "stream",
     "text": [
      "https://www.jpl.nasa.gov/spaceimages//spaceimages/images/wallpaper/PIA19952-1920x1200.jpg\n"
     ]
    }
   ],
   "source": [
    "featured_image_url = ('https://www.jpl.nasa.gov/spaceimages/' + tempURL[1])\n",
    "print(featured_image_url)"
   ]
  },
  {
   "cell_type": "code",
   "execution_count": null,
   "metadata": {},
   "outputs": [],
   "source": []
  }
 ],
 "metadata": {
  "kernelspec": {
   "display_name": "Python 3",
   "language": "python",
   "name": "python3"
  },
  "language_info": {
   "codemirror_mode": {
    "name": "ipython",
    "version": 3
   },
   "file_extension": ".py",
   "mimetype": "text/x-python",
   "name": "python",
   "nbconvert_exporter": "python",
   "pygments_lexer": "ipython3",
   "version": "3.8.3"
  }
 },
 "nbformat": 4,
 "nbformat_minor": 4
}
